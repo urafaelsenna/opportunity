{
 "cells": [
  {
   "cell_type": "code",
   "execution_count": 1,
   "id": "d34a6bd6",
   "metadata": {},
   "outputs": [
    {
     "name": "stdout",
     "output_type": "stream",
     "text": [
      "Total de registros sem coordenadas: 0\n"
     ]
    },
    {
     "data": {
      "text/html": [
       "<div>\n",
       "<style scoped>\n",
       "    .dataframe tbody tr th:only-of-type {\n",
       "        vertical-align: middle;\n",
       "    }\n",
       "\n",
       "    .dataframe tbody tr th {\n",
       "        vertical-align: top;\n",
       "    }\n",
       "\n",
       "    .dataframe thead th {\n",
       "        text-align: right;\n",
       "    }\n",
       "</style>\n",
       "<table border=\"1\" class=\"dataframe\">\n",
       "  <thead>\n",
       "    <tr style=\"text-align: right;\">\n",
       "      <th></th>\n",
       "      <th>rede</th>\n",
       "      <th>nome</th>\n",
       "      <th>endereco</th>\n",
       "      <th>latitude</th>\n",
       "      <th>longitude</th>\n",
       "    </tr>\n",
       "  </thead>\n",
       "  <tbody>\n",
       "  </tbody>\n",
       "</table>\n",
       "</div>"
      ],
      "text/plain": [
       "Empty DataFrame\n",
       "Columns: [rede, nome, endereco, latitude, longitude]\n",
       "Index: []"
      ]
     },
     "metadata": {},
     "output_type": "display_data"
    }
   ],
   "source": [
    "import sqlite3\n",
    "import pandas as pd\n",
    "from IPython.display import display\n",
    "\n",
    "# Conecta ao banco na raiz do projeto\n",
    "conn = sqlite3.connect(\"../unidades.db\")\n",
    "\n",
    "# Consulta colunas necessárias, incluindo latitude e longitude para filtragem\n",
    "query = \"\"\"\n",
    "SELECT rede, nome, endereco, latitude, longitude\n",
    "FROM unidades\n",
    "\"\"\"\n",
    "\n",
    "df_unidades = pd.read_sql_query(query, conn)\n",
    "conn.close()\n",
    "\n",
    "# Filtra apenas registros sem latitude ou longitude\n",
    "df_sem_coords = df_unidades[(df_unidades['latitude'].isnull()) | (df_unidades['latitude'] == '') |\n",
    "                            (df_unidades['longitude'].isnull()) | (df_unidades['longitude'] == '')]\n",
    "\n",
    "print(f\"Total de registros sem coordenadas: {len(df_sem_coords)}\")\n",
    "\n",
    "# Exibe apenas as colunas que você quer visualizar\n",
    "display(df_sem_coords[['rede', 'nome', 'endereco', 'latitude','longitude']])\n"
   ]
  },
  {
   "cell_type": "code",
   "execution_count": 1,
   "id": "fef65357",
   "metadata": {},
   "outputs": [
    {
     "name": "stdout",
     "output_type": "stream",
     "text": [
      "📊 Resumo de valores faltantes por coluna:\n",
      "\n",
      "➤ Coordenadas:\n",
      "  latitude: 0 / 2179 (0.00%) faltantes\n",
      "  longitude: 0 / 2179 (0.00%) faltantes\n",
      "\n",
      "➤ CDN (bairro, cidade, estado, país):\n",
      "  bairro_cdn: 55 / 2179 (2.52%) faltantes\n",
      "  cidade_cdn: 9 / 2179 (0.41%) faltantes\n",
      "  estado_cdn: 9 / 2179 (0.41%) faltantes\n",
      "  pais_cdn: 9 / 2179 (0.41%) faltantes\n",
      "\n",
      "📌 Resumo combinado:\n",
      "  Registros com algum valor de coordenada faltando: 0 / 2179\n",
      "  Registros com algum valor de CDN faltando: 55 / 2179\n",
      "  Registros com algum valor faltando (coords ou CDN): 55 / 2179\n"
     ]
    }
   ],
   "source": [
    "import sqlite3\n",
    "import pandas as pd\n",
    "\n",
    "# Conecta ao banco na raiz do projeto\n",
    "conn = sqlite3.connect(\"../unidades.db\")\n",
    "\n",
    "# Consulta todas as colunas relevantes\n",
    "query = \"\"\"\n",
    "SELECT id, rede, nome, endereco, latitude, longitude,\n",
    "       bairro_cdn, cidade_cdn, estado_cdn, pais_cdn\n",
    "FROM unidades\n",
    "\"\"\"\n",
    "df = pd.read_sql_query(query, conn)\n",
    "conn.close()\n",
    "\n",
    "# Função para contar valores \"faltantes\" (NULL ou string vazia)\n",
    "def contar_faltantes(col):\n",
    "    return df[col].isnull().sum() + (df[col] == '').sum()\n",
    "\n",
    "# Lista de colunas que queremos resumir\n",
    "colunas_coords = ['latitude', 'longitude']\n",
    "colunas_cdns = ['bairro_cdn', 'cidade_cdn', 'estado_cdn', 'pais_cdn']\n",
    "\n",
    "print(\"📊 Resumo de valores faltantes por coluna:\\n\")\n",
    "\n",
    "# Resumo para coordenadas\n",
    "print(\"➤ Coordenadas:\")\n",
    "for col in colunas_coords:\n",
    "    faltantes = contar_faltantes(col)\n",
    "    total = len(df)\n",
    "    print(f\"  {col}: {faltantes} / {total} ({faltantes/total:.2%}) faltantes\")\n",
    "\n",
    "print(\"\\n➤ CDN (bairro, cidade, estado, país):\")\n",
    "for col in colunas_cdns:\n",
    "    faltantes = contar_faltantes(col)\n",
    "    total = len(df)\n",
    "    print(f\"  {col}: {faltantes} / {total} ({faltantes/total:.2%}) faltantes\")\n",
    "\n",
    "# Estatística combinada: quantos registros têm algum coordenada ou algum CDN faltando\n",
    "faltando_coords = df[colunas_coords].isnull() | (df[colunas_coords] == '')\n",
    "faltando_cdns = df[colunas_cdns].isnull() | (df[colunas_cdns] == '')\n",
    "\n",
    "total_faltando_coords = faltando_coords.any(axis=1).sum()\n",
    "total_faltando_cdns = faltando_cdns.any(axis=1).sum()\n",
    "total_faltando_qualquer = (faltando_coords.any(axis=1) | faltando_cdns.any(axis=1)).sum()\n",
    "\n",
    "print(\"\\n📌 Resumo combinado:\")\n",
    "print(f\"  Registros com algum valor de coordenada faltando: {total_faltando_coords} / {len(df)}\")\n",
    "print(f\"  Registros com algum valor de CDN faltando: {total_faltando_cdns} / {len(df)}\")\n",
    "print(f\"  Registros com algum valor faltando (coords ou CDN): {total_faltando_qualquer} / {len(df)}\")\n"
   ]
  }
 ],
 "metadata": {
  "kernelspec": {
   "display_name": "Python 3",
   "language": "python",
   "name": "python3"
  },
  "language_info": {
   "codemirror_mode": {
    "name": "ipython",
    "version": 3
   },
   "file_extension": ".py",
   "mimetype": "text/x-python",
   "name": "python",
   "nbconvert_exporter": "python",
   "pygments_lexer": "ipython3",
   "version": "3.12.1"
  }
 },
 "nbformat": 4,
 "nbformat_minor": 5
}
